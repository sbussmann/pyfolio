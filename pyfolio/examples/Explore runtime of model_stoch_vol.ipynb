{
 "cells": [
  {
   "cell_type": "markdown",
   "metadata": {},
   "source": [
    "# Obtain runtimes for model_stoch_vol for several dataset sizes"
   ]
  },
  {
   "cell_type": "code",
   "execution_count": 5,
   "metadata": {
    "collapsed": false
   },
   "outputs": [],
   "source": [
    "%matplotlib inline\n",
    "import pyfolio as pf\n",
    "import pandas as pd"
   ]
  },
  {
   "cell_type": "code",
   "execution_count": 2,
   "metadata": {
    "collapsed": true
   },
   "outputs": [],
   "source": [
    "stock_rets = pf.utils.get_symbol_rets('AAPL')"
   ]
  },
  {
   "cell_type": "markdown",
   "metadata": {},
   "source": [
    "Apple stock is useful for this exercise because there are over 8000 returns"
   ]
  },
  {
   "cell_type": "code",
   "execution_count": 4,
   "metadata": {
    "collapsed": false
   },
   "outputs": [
    {
     "data": {
      "text/plain": [
       "8789"
      ]
     },
     "execution_count": 4,
     "metadata": {},
     "output_type": "execute_result"
    }
   ],
   "source": [
    "len(stock_rets)"
   ]
  },
  {
   "cell_type": "code",
   "execution_count": 3,
   "metadata": {
    "collapsed": true
   },
   "outputs": [],
   "source": [
    "out_of_sample = stock_rets.index[-40]"
   ]
  },
  {
   "cell_type": "code",
   "execution_count": 15,
   "metadata": {
    "collapsed": false
   },
   "outputs": [
    {
     "name": "stdout",
     "output_type": "stream",
     "text": [
      "Time to run priors was 0.121 seconds.\n",
      "Time to run T was 0.045 seconds.\n",
      "Time to run find_MAP was 2.910 seconds.\n",
      "Time to run burn_in_step was 18.985 seconds.\n",
      "Time to run burn_in_sample was 2.791 seconds.\n",
      "Time to run full_step was 4.094 seconds.\n",
      "Time to run full_sample was 37.636 seconds.\n",
      "('total_time', 66.58209300041199)\n",
      "('priors', 0.12076497077941895)\n",
      "('full_step', 4.0940821170806885)\n",
      "('find_MAP', 2.9102070331573486)\n",
      "('full_sample', 37.635648012161255)\n",
      "('T', 0.044561147689819336)\n",
      "('burn_in_sample', 2.791260004043579)\n",
      "('ndata', 100)\n",
      "('burn_in_step', 18.985387802124023)\n",
      "Time to run priors was 0.102 seconds.\n",
      "Time to run T was 0.111 seconds.\n",
      "Time to run find_MAP was 3.232 seconds.\n",
      "Time to run burn_in_step was 18.412 seconds.\n",
      "Time to run burn_in_sample was 3.935 seconds.\n",
      "Time to run full_step was 4.518 seconds.\n",
      "Time to run full_sample was 39.022 seconds.\n",
      "('total_time', 69.3316421508789)\n",
      "('priors', 0.10192418098449707)\n",
      "('full_step', 4.518462896347046)\n",
      "('find_MAP', 3.2320737838745117)\n",
      "('full_sample', 39.02178716659546)\n",
      "('T', 0.11056303977966309)\n",
      "('burn_in_sample', 3.9347989559173584)\n",
      "('ndata', 200)\n",
      "('burn_in_step', 18.411814212799072)\n",
      "Time to run priors was 0.129 seconds.\n",
      "Time to run T was 0.100 seconds.\n",
      "Time to run find_MAP was 3.158 seconds.\n",
      "Time to run burn_in_step was 20.116 seconds.\n",
      "Time to run burn_in_sample was 5.575 seconds.\n",
      "Time to run full_step was 4.874 seconds.\n",
      "Time to run full_sample was 60.905 seconds.\n",
      "('total_time', 94.85694694519043)\n",
      "('priors', 0.12886595726013184)\n",
      "('full_step', 4.874194145202637)\n",
      "('find_MAP', 3.157883882522583)\n",
      "('full_sample', 60.904815912246704)\n",
      "('T', 0.09975504875183105)\n",
      "('burn_in_sample', 5.575446844100952)\n",
      "('ndata', 400)\n",
      "('burn_in_step', 20.11583113670349)\n",
      "Time to run priors was 0.118 seconds.\n",
      "Time to run T was 0.122 seconds.\n",
      "Time to run find_MAP was 3.344 seconds.\n",
      "Time to run burn_in_step was 20.096 seconds.\n",
      "Time to run burn_in_sample was 7.383 seconds.\n",
      "Time to run full_step was 3.445 seconds.\n",
      "Time to run full_sample was 69.514 seconds.\n",
      "('total_time', 104.02253985404968)\n",
      "('priors', 0.11847996711730957)\n",
      "('full_step', 3.444622039794922)\n",
      "('find_MAP', 3.344146966934204)\n",
      "('full_sample', 69.51397585868835)\n",
      "('T', 0.12238097190856934)\n",
      "('burn_in_sample', 7.382929086685181)\n",
      "('ndata', 800)\n",
      "('burn_in_step', 20.09582495689392)\n",
      "Time to run priors was 0.096 seconds.\n",
      "Time to run T was 0.107 seconds.\n",
      "Time to run find_MAP was 3.273 seconds.\n",
      "Time to run burn_in_step was 20.671 seconds.\n",
      "Time to run burn_in_sample was 10.521 seconds.\n",
      "Time to run full_step was 3.467 seconds.\n",
      "Time to run full_sample was 129.508 seconds.\n",
      "('total_time', 167.64480113983154)\n",
      "('priors', 0.0960090160369873)\n",
      "('full_step', 3.4671480655670166)\n",
      "('find_MAP', 3.273099899291992)\n",
      "('full_sample', 129.5084309577942)\n",
      "('T', 0.10718917846679688)\n",
      "('burn_in_sample', 10.521103858947754)\n",
      "('ndata', 1600)\n",
      "('burn_in_step', 20.671488046646118)\n",
      "Time to run priors was 0.160 seconds.\n",
      "Time to run T was 0.123 seconds.\n",
      "Time to run find_MAP was 5.819 seconds.\n",
      "Time to run burn_in_step was 19.420 seconds.\n",
      "Time to run burn_in_sample was 18.990 seconds.\n",
      "Time to run full_step was 3.821 seconds.\n",
      "Time to run full_sample was 250.869 seconds.\n",
      "('total_time', 299.20176100730896)\n",
      "('priors', 0.16025400161743164)\n",
      "('full_step', 3.8211169242858887)\n",
      "('find_MAP', 5.819119930267334)\n",
      "('full_sample', 250.86904096603394)\n",
      "('T', 0.12259316444396973)\n",
      "('burn_in_sample', 18.989797115325928)\n",
      "('ndata', 3200)\n",
      "('burn_in_step', 19.419524908065796)\n"
     ]
    }
   ],
   "source": [
    "returns_range = [100, 200, 400, 800, 1600, 3200]\n",
    "pdtimes = []\n",
    "for return_cutoff in returns_range:\n",
    "    # Run model that assumes returns to be T-distributed\n",
    "    stock_rets_truncate = stock_rets[-return_cutoff:]\n",
    "    trace, alltimes = pf.bayesian.model_stoch_vol(stock_rets_truncate)\n",
    "    pdtimes.append(alltimes)"
   ]
  },
  {
   "cell_type": "code",
   "execution_count": 16,
   "metadata": {
    "collapsed": false
   },
   "outputs": [
    {
     "data": {
      "text/plain": [
       "[{'T': 0.044561147689819336,\n",
       "  'burn_in_sample': 2.791260004043579,\n",
       "  'burn_in_step': 18.985387802124023,\n",
       "  'find_MAP': 2.9102070331573486,\n",
       "  'full_sample': 37.635648012161255,\n",
       "  'full_step': 4.0940821170806885,\n",
       "  'ndata': 100,\n",
       "  'priors': 0.12076497077941895,\n",
       "  'total_time': 66.58209300041199},\n",
       " {'T': 0.11056303977966309,\n",
       "  'burn_in_sample': 3.9347989559173584,\n",
       "  'burn_in_step': 18.411814212799072,\n",
       "  'find_MAP': 3.2320737838745117,\n",
       "  'full_sample': 39.02178716659546,\n",
       "  'full_step': 4.518462896347046,\n",
       "  'ndata': 200,\n",
       "  'priors': 0.10192418098449707,\n",
       "  'total_time': 69.3316421508789},\n",
       " {'T': 0.09975504875183105,\n",
       "  'burn_in_sample': 5.575446844100952,\n",
       "  'burn_in_step': 20.11583113670349,\n",
       "  'find_MAP': 3.157883882522583,\n",
       "  'full_sample': 60.904815912246704,\n",
       "  'full_step': 4.874194145202637,\n",
       "  'ndata': 400,\n",
       "  'priors': 0.12886595726013184,\n",
       "  'total_time': 94.85694694519043},\n",
       " {'T': 0.12238097190856934,\n",
       "  'burn_in_sample': 7.382929086685181,\n",
       "  'burn_in_step': 20.09582495689392,\n",
       "  'find_MAP': 3.344146966934204,\n",
       "  'full_sample': 69.51397585868835,\n",
       "  'full_step': 3.444622039794922,\n",
       "  'ndata': 800,\n",
       "  'priors': 0.11847996711730957,\n",
       "  'total_time': 104.02253985404968},\n",
       " {'T': 0.10718917846679688,\n",
       "  'burn_in_sample': 10.521103858947754,\n",
       "  'burn_in_step': 20.671488046646118,\n",
       "  'find_MAP': 3.273099899291992,\n",
       "  'full_sample': 129.5084309577942,\n",
       "  'full_step': 3.4671480655670166,\n",
       "  'ndata': 1600,\n",
       "  'priors': 0.0960090160369873,\n",
       "  'total_time': 167.64480113983154},\n",
       " {'T': 0.12259316444396973,\n",
       "  'burn_in_sample': 18.989797115325928,\n",
       "  'burn_in_step': 19.419524908065796,\n",
       "  'find_MAP': 5.819119930267334,\n",
       "  'full_sample': 250.86904096603394,\n",
       "  'full_step': 3.8211169242858887,\n",
       "  'ndata': 3200,\n",
       "  'priors': 0.16025400161743164,\n",
       "  'total_time': 299.20176100730896}]"
      ]
     },
     "execution_count": 16,
     "metadata": {},
     "output_type": "execute_result"
    }
   ],
   "source": [
    "pdtimes"
   ]
  },
  {
   "cell_type": "code",
   "execution_count": 17,
   "metadata": {
    "collapsed": true
   },
   "outputs": [],
   "source": [
    "timetable = pd.DataFrame(pdtimes)"
   ]
  },
  {
   "cell_type": "code",
   "execution_count": 24,
   "metadata": {
    "collapsed": false
   },
   "outputs": [
    {
     "data": {
      "image/png": "[encoded data removed]",
      "text/plain": [
       "<matplotlib.figure.Figure at 0x14d08f910>"
      ]
     },
     "metadata": {},
     "output_type": "display_data"
    }
   ],
   "source": [
    "ax = timetable.plot(x='ndata', marker='o')\n",
    "ax.set_xlabel('Number of daily returns')\n",
    "ax.set_ylabel('Seconds to complete task')\n",
    "import matplotlib.pyplot as plt\n",
    "plt.savefig('Runtime_model_stoch_vol.png')"
   ]
  },
  {
   "cell_type": "code",
   "execution_count": null,
   "metadata": {
    "collapsed": true
   },
   "outputs": [],
   "source": []
  }
 ],
 "metadata": {
  "kernelspec": {
   "display_name": "Python 2",
   "language": "python",
   "name": "python2"
  },
  "language_info": {
   "codemirror_mode": {
    "name": "ipython",
    "version": 2
   },
   "file_extension": ".py",
   "mimetype": "text/x-python",
   "name": "python",
   "nbconvert_exporter": "python",
   "pygments_lexer": "ipython2",
   "version": "2.7.10"
  }
 },
 "nbformat": 4,
 "nbformat_minor": 0
}
